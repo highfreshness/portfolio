{
 "cells": [
  {
   "cell_type": "code",
   "execution_count": 2,
   "metadata": {
    "executionInfo": {
     "elapsed": 2849,
     "status": "ok",
     "timestamp": 1634869608423,
     "user": {
      "displayName": "민초프라페",
      "photoUrl": "https://lh3.googleusercontent.com/a-/AOh14GhigPa2oiOx5-_IBPPJcA_P97O3efS-LukwIxuU6Q=s64",
      "userId": "12683256270534380554"
     },
     "user_tz": -540
    },
    "id": "kfl7CeAxa2FK"
   },
   "outputs": [],
   "source": [
    "import pandas as pd\n",
    "import numpy as np\n",
    "import matplotlib.pyplot as plt\n",
    "import seaborn as sns\n",
    "\n",
    "from sklearn import preprocessing, model_selection, preprocessing, pipeline, compose\n",
    "\n",
    "import tensorflow as tf\n",
    "from tensorflow.keras import models, layers, activations, initializers, losses, optimizers, metrics"
   ]
  },
  {
   "cell_type": "code",
   "execution_count": 3,
   "metadata": {
    "colab": {
     "base_uri": "https://localhost:8080/"
    },
    "executionInfo": {
     "elapsed": 20059,
     "status": "ok",
     "timestamp": 1634869631126,
     "user": {
      "displayName": "민초프라페",
      "photoUrl": "https://lh3.googleusercontent.com/a-/AOh14GhigPa2oiOx5-_IBPPJcA_P97O3efS-LukwIxuU6Q=s64",
      "userId": "12683256270534380554"
     },
     "user_tz": -540
    },
    "id": "dl3TC6zKy2H1",
    "outputId": "922cf9da-0648-452d-d164-7f8aacaf15d5"
   },
   "outputs": [
    {
     "name": "stdout",
     "output_type": "stream",
     "text": [
      "Mounted at /content/drive\n"
     ]
    }
   ],
   "source": [
    "from google.colab import drive\n",
    "drive.mount('/content/drive')"
   ]
  },
  {
   "cell_type": "code",
   "execution_count": 4,
   "metadata": {
    "executionInfo": {
     "elapsed": 5641,
     "status": "ok",
     "timestamp": 1634869638764,
     "user": {
      "displayName": "민초프라페",
      "photoUrl": "https://lh3.googleusercontent.com/a-/AOh14GhigPa2oiOx5-_IBPPJcA_P97O3efS-LukwIxuU6Q=s64",
      "userId": "12683256270534380554"
     },
     "user_tz": -540
    },
    "id": "ycj5A2RnolG1"
   },
   "outputs": [],
   "source": [
    "import os\n",
    "used_car = pd.DataFrame()\n",
    "\n",
    "for dirname, _, filenames in os.walk('/content/drive/MyDrive/used_car'):\n",
    "    for filename in filenames:\n",
    "            each_car = pd.read_csv(os.path.join(dirname, filename), encoding='utf-8')\n",
    "            each_car['company'] = filename.split('.')[0]\n",
    "            used_car = pd.concat([used_car,each_car], axis=0)"
   ]
  },
  {
   "cell_type": "code",
   "execution_count": 5,
   "metadata": {
    "colab": {
     "base_uri": "https://localhost:8080/"
    },
    "executionInfo": {
     "elapsed": 4,
     "status": "ok",
     "timestamp": 1634869640628,
     "user": {
      "displayName": "민초프라페",
      "photoUrl": "https://lh3.googleusercontent.com/a-/AOh14GhigPa2oiOx5-_IBPPJcA_P97O3efS-LukwIxuU6Q=s64",
      "userId": "12683256270534380554"
     },
     "user_tz": -540
    },
    "id": "fMHpW8gFYCkR",
    "outputId": "9d5e1508-e360-4f54-921f-28aec9a0ab61"
   },
   "outputs": [
    {
     "name": "stdout",
     "output_type": "stream",
     "text": [
      "<class 'pandas.core.frame.DataFrame'>\n",
      "Int64Index: 64131 entries, 0 to 4859\n",
      "Data columns (total 10 columns):\n",
      " #   Column        Non-Null Count  Dtype  \n",
      "---  ------        --------------  -----  \n",
      " 0   model         64131 non-null  object \n",
      " 1   year          64131 non-null  int64  \n",
      " 2   price         64131 non-null  int64  \n",
      " 3   transmission  64131 non-null  object \n",
      " 4   mileage       64131 non-null  int64  \n",
      " 5   fuelType      64131 non-null  object \n",
      " 6   tax           64131 non-null  int64  \n",
      " 7   mpg           64131 non-null  float64\n",
      " 8   engineSize    64131 non-null  float64\n",
      " 9   company       64131 non-null  object \n",
      "dtypes: float64(2), int64(4), object(4)\n",
      "memory usage: 5.4+ MB\n"
     ]
    }
   ],
   "source": [
    "used_car.info()"
   ]
  },
  {
   "cell_type": "code",
   "execution_count": 6,
   "metadata": {
    "executionInfo": {
     "elapsed": 447,
     "status": "ok",
     "timestamp": 1634869643032,
     "user": {
      "displayName": "민초프라페",
      "photoUrl": "https://lh3.googleusercontent.com/a-/AOh14GhigPa2oiOx5-_IBPPJcA_P97O3efS-LukwIxuU6Q=s64",
      "userId": "12683256270534380554"
     },
     "user_tz": -540
    },
    "id": "bV6NnPwNE_Ih"
   },
   "outputs": [],
   "source": [
    "# DataFrame의 결측치, 이상치 제거 및 대체\n",
    "\n",
    "used_car['tax'] = used_car['tax'].replace(to_replace=0, value=used_car['tax'].median())\n",
    "\n",
    "used_car['model'] = used_car[['model']].apply(lambda x: x.str.strip())\n",
    "used_car['engineSize'] = used_car[['engineSize']].replace(0,used_car['engineSize'].mode()[0])\n",
    "used_car['tax'] = used_car[['tax']].replace(0,used_car[['tax']].median())\n",
    "\n",
    "# tax 범주화\n",
    "used_car['tax_cut'] = pd.cut(used_car.tax,bins=[0,20,30,130,155,170,210,250,275,315,340,600],\n",
    "                       labels=['A','B','C','D','E','F','G','H','I','J','K'])\n",
    "\n",
    "# 엔진 크기 범주화\n",
    "\n",
    "used_car['engineSize'] =  used_car['engineSize']//1"
   ]
  },
  {
   "cell_type": "code",
   "execution_count": 7,
   "metadata": {
    "executionInfo": {
     "elapsed": 837,
     "status": "ok",
     "timestamp": 1634869646707,
     "user": {
      "displayName": "민초프라페",
      "photoUrl": "https://lh3.googleusercontent.com/a-/AOh14GhigPa2oiOx5-_IBPPJcA_P97O3efS-LukwIxuU6Q=s64",
      "userId": "12683256270534380554"
     },
     "user_tz": -540
    },
    "id": "kjBMfXA2Gfdz"
   },
   "outputs": [],
   "source": [
    "x = used_car.drop(['price'],axis=1)\n",
    "y = used_car['price']"
   ]
  },
  {
   "cell_type": "code",
   "execution_count": 8,
   "metadata": {
    "executionInfo": {
     "elapsed": 2,
     "status": "ok",
     "timestamp": 1634869648591,
     "user": {
      "displayName": "민초프라페",
      "photoUrl": "https://lh3.googleusercontent.com/a-/AOh14GhigPa2oiOx5-_IBPPJcA_P97O3efS-LukwIxuU6Q=s64",
      "userId": "12683256270534380554"
     },
     "user_tz": -540
    },
    "id": "h58t-IT9GlEC"
   },
   "outputs": [],
   "source": [
    "x_train, x_test, y_train, y_test = model_selection.train_test_split(x, y, test_size=0.3, random_state=123)"
   ]
  },
  {
   "cell_type": "code",
   "execution_count": 9,
   "metadata": {
    "executionInfo": {
     "elapsed": 821,
     "status": "ok",
     "timestamp": 1634869653196,
     "user": {
      "displayName": "민초프라페",
      "photoUrl": "https://lh3.googleusercontent.com/a-/AOh14GhigPa2oiOx5-_IBPPJcA_P97O3efS-LukwIxuU6Q=s64",
      "userId": "12683256270534380554"
     },
     "user_tz": -540
    },
    "id": "dXu-IduGG752"
   },
   "outputs": [],
   "source": [
    "# 연속형 변수 열 입력\n",
    "\n",
    "numeric_features = ['year','mileage','tax','mpg']\n",
    "numeric_transformer = preprocessing.StandardScaler() # cf) RobustScaler\n",
    "\n",
    "# 범주형 변수 열 입력\n",
    "\n",
    "categorical_features = ['model','transmission','fuelType','engineSize','company']\n",
    "categorical_transformer = preprocessing.OneHotEncoder(categories='auto', handle_unknown='ignore') # 범주형 데이터가 x_train, x_test에 고르게 들어가지 않는 경우 pass 하기 위해 handel_unknown param ='ignore' 로 설정\n",
    "\n",
    "preprocessor = compose.ColumnTransformer(\n",
    "    transformers=[ # List of (name, transformer, column(s))\n",
    "        ('num', numeric_transformer, numeric_features),\n",
    "        ('cat', categorical_transformer, categorical_features)])"
   ]
  },
  {
   "cell_type": "code",
   "execution_count": 10,
   "metadata": {
    "executionInfo": {
     "elapsed": 1,
     "status": "ok",
     "timestamp": 1634869655041,
     "user": {
      "displayName": "민초프라페",
      "photoUrl": "https://lh3.googleusercontent.com/a-/AOh14GhigPa2oiOx5-_IBPPJcA_P97O3efS-LukwIxuU6Q=s64",
      "userId": "12683256270534380554"
     },
     "user_tz": -540
    },
    "id": "oJ1nijj9Heiq"
   },
   "outputs": [],
   "source": [
    "preprocessor_pipe = pipeline.Pipeline(steps=[('preprocessor', preprocessor)]) # 스텝은 전처리 까지만"
   ]
  },
  {
   "cell_type": "code",
   "execution_count": 11,
   "metadata": {
    "colab": {
     "base_uri": "https://localhost:8080/"
    },
    "executionInfo": {
     "elapsed": 773,
     "status": "ok",
     "timestamp": 1634869657491,
     "user": {
      "displayName": "민초프라페",
      "photoUrl": "https://lh3.googleusercontent.com/a-/AOh14GhigPa2oiOx5-_IBPPJcA_P97O3efS-LukwIxuU6Q=s64",
      "userId": "12683256270534380554"
     },
     "user_tz": -540
    },
    "id": "MpXDuqLLHiUn",
    "outputId": "56e82706-bbf0-44aa-ca50-e10bd5ad27de"
   },
   "outputs": [
    {
     "data": {
      "text/plain": [
       "Pipeline(memory=None,\n",
       "         steps=[('preprocessor',\n",
       "                 ColumnTransformer(n_jobs=None, remainder='drop',\n",
       "                                   sparse_threshold=0.3,\n",
       "                                   transformer_weights=None,\n",
       "                                   transformers=[('num',\n",
       "                                                  StandardScaler(copy=True,\n",
       "                                                                 with_mean=True,\n",
       "                                                                 with_std=True),\n",
       "                                                  ['year', 'mileage', 'tax',\n",
       "                                                   'mpg']),\n",
       "                                                 ('cat',\n",
       "                                                  OneHotEncoder(categories='auto',\n",
       "                                                                drop=None,\n",
       "                                                                dtype=<class 'numpy.float64'>,\n",
       "                                                                handle_unknown='ignore',\n",
       "                                                                sparse=True),\n",
       "                                                  ['model', 'transmission',\n",
       "                                                   'fuelType', 'engineSize',\n",
       "                                                   'company'])],\n",
       "                                   verbose=False))],\n",
       "         verbose=False)"
      ]
     },
     "execution_count": 11,
     "metadata": {},
     "output_type": "execute_result"
    }
   ],
   "source": [
    "# x_train과 x_test 전처리 작업을 위한 fit (SC, One-Hot Encoder 적용 중)\n",
    "preprocessor_pipe.fit(x_train, x_test)"
   ]
  },
  {
   "cell_type": "code",
   "execution_count": 12,
   "metadata": {
    "executionInfo": {
     "elapsed": 717,
     "status": "ok",
     "timestamp": 1634869659922,
     "user": {
      "displayName": "민초프라페",
      "photoUrl": "https://lh3.googleusercontent.com/a-/AOh14GhigPa2oiOx5-_IBPPJcA_P97O3efS-LukwIxuU6Q=s64",
      "userId": "12683256270534380554"
     },
     "user_tz": -540
    },
    "id": "0dIpAXMHHkjt"
   },
   "outputs": [],
   "source": [
    "x_train_transformed = preprocessor_pipe.transform(x_train)\n",
    "x_test_transformed = preprocessor_pipe.transform(x_test)"
   ]
  },
  {
   "cell_type": "code",
   "execution_count": 13,
   "metadata": {
    "colab": {
     "base_uri": "https://localhost:8080/"
    },
    "executionInfo": {
     "elapsed": 3,
     "status": "ok",
     "timestamp": 1634869661564,
     "user": {
      "displayName": "민초프라페",
      "photoUrl": "https://lh3.googleusercontent.com/a-/AOh14GhigPa2oiOx5-_IBPPJcA_P97O3efS-LukwIxuU6Q=s64",
      "userId": "12683256270534380554"
     },
     "user_tz": -540
    },
    "id": "F9H6R29KaSt5",
    "outputId": "d6bfb9f4-53b2-4ef8-b960-5052d29479f3"
   },
   "outputs": [
    {
     "data": {
      "text/plain": [
       "(44891, 157)"
      ]
     },
     "execution_count": 13,
     "metadata": {},
     "output_type": "execute_result"
    }
   ],
   "source": [
    "x_train_transformed.shape"
   ]
  },
  {
   "cell_type": "code",
   "execution_count": 16,
   "metadata": {
    "executionInfo": {
     "elapsed": 763,
     "status": "ok",
     "timestamp": 1634869680224,
     "user": {
      "displayName": "민초프라페",
      "photoUrl": "https://lh3.googleusercontent.com/a-/AOh14GhigPa2oiOx5-_IBPPJcA_P97O3efS-LukwIxuU6Q=s64",
      "userId": "12683256270534380554"
     },
     "user_tz": -540
    },
    "id": "aE1lZmS1IN6w"
   },
   "outputs": [],
   "source": [
    "# x_train_transformed.shape == (x,157)\n",
    "\n",
    "model = models.Sequential()\n",
    "\n",
    "model.add(layers.Dense(input_dim=157, units=512, activation=None, kernel_initializer=initializers.he_uniform())) # he-uniform initialization\n",
    "model.add(layers.BatchNormalization()) # Use this line as if needed\n",
    "model.add(layers.Activation('relu')) # elu or relu (or layers.ELU / layers.LeakyReLU)\n",
    "\n",
    "model.add(layers.Dense(units=256, activation=None, kernel_initializer=initializers.he_uniform()))\n",
    "model.add(layers.BatchNormalization()) # Use this line as if needed\n",
    "model.add(layers.Activation('relu'))\n",
    "\n",
    "model.add(layers.Dense(units=32, activation=None, kernel_initializer=initializers.he_uniform())) \n",
    "model.add(layers.BatchNormalization()) # Use this line as if needed\n",
    "model.add(layers.Activation('relu'))\n",
    "model.add(layers.Dropout(rate=0.5)) # Dropout-layer\n",
    "\n",
    "model.add(layers.Dense(units=1, activation=None)) "
   ]
  },
  {
   "cell_type": "code",
   "execution_count": 17,
   "metadata": {
    "executionInfo": {
     "elapsed": 2,
     "status": "ok",
     "timestamp": 1634869683931,
     "user": {
      "displayName": "민초프라페",
      "photoUrl": "https://lh3.googleusercontent.com/a-/AOh14GhigPa2oiOx5-_IBPPJcA_P97O3efS-LukwIxuU6Q=s64",
      "userId": "12683256270534380554"
     },
     "user_tz": -540
    },
    "id": "J0ffzfWwKEGO"
   },
   "outputs": [],
   "source": [
    "model.compile(optimizer=optimizers.Adam(), # Please try the Adam-optimizer\n",
    "              loss=losses.mean_squared_error, # MSE \n",
    "              metrics=[metrics.mean_squared_error]) # MSE"
   ]
  },
  {
   "cell_type": "code",
   "execution_count": 18,
   "metadata": {
    "executionInfo": {
     "elapsed": 555,
     "status": "ok",
     "timestamp": 1634869686454,
     "user": {
      "displayName": "민초프라페",
      "photoUrl": "https://lh3.googleusercontent.com/a-/AOh14GhigPa2oiOx5-_IBPPJcA_P97O3efS-LukwIxuU6Q=s64",
      "userId": "12683256270534380554"
     },
     "user_tz": -540
    },
    "id": "Xve85oaqP1Od"
   },
   "outputs": [],
   "source": [
    "y_train = np.array(y_train).reshape(-1,1)"
   ]
  },
  {
   "cell_type": "code",
   "execution_count": 19,
   "metadata": {
    "executionInfo": {
     "elapsed": 2,
     "status": "ok",
     "timestamp": 1634869688164,
     "user": {
      "displayName": "민초프라페",
      "photoUrl": "https://lh3.googleusercontent.com/a-/AOh14GhigPa2oiOx5-_IBPPJcA_P97O3efS-LukwIxuU6Q=s64",
      "userId": "12683256270534380554"
     },
     "user_tz": -540
    },
    "id": "TQ4ePqSDOaEo"
   },
   "outputs": [],
   "source": [
    "x_train_transformed = x_train_transformed.toarray()"
   ]
  },
  {
   "cell_type": "code",
   "execution_count": 20,
   "metadata": {
    "executionInfo": {
     "elapsed": 480504,
     "status": "ok",
     "timestamp": 1634870170145,
     "user": {
      "displayName": "민초프라페",
      "photoUrl": "https://lh3.googleusercontent.com/a-/AOh14GhigPa2oiOx5-_IBPPJcA_P97O3efS-LukwIxuU6Q=s64",
      "userId": "12683256270534380554"
     },
     "user_tz": -540
    },
    "id": "L4ZOI19BKZuU"
   },
   "outputs": [],
   "source": [
    "nn_fit = model.fit(x_train_transformed, y_train, batch_size=100, epochs=500, validation_split=0.3, verbose=0)"
   ]
  },
  {
   "cell_type": "code",
   "execution_count": 21,
   "metadata": {
    "executionInfo": {
     "elapsed": 817,
     "status": "ok",
     "timestamp": 1634870240825,
     "user": {
      "displayName": "민초프라페",
      "photoUrl": "https://lh3.googleusercontent.com/a-/AOh14GhigPa2oiOx5-_IBPPJcA_P97O3efS-LukwIxuU6Q=s64",
      "userId": "12683256270534380554"
     },
     "user_tz": -540
    },
    "id": "NjIwkz1VPtNq"
   },
   "outputs": [],
   "source": [
    "x_test_transformed = x_test_transformed.toarray()"
   ]
  },
  {
   "cell_type": "code",
   "execution_count": 22,
   "metadata": {
    "colab": {
     "base_uri": "https://localhost:8080/"
    },
    "executionInfo": {
     "elapsed": 1203,
     "status": "ok",
     "timestamp": 1634870244111,
     "user": {
      "displayName": "민초프라페",
      "photoUrl": "https://lh3.googleusercontent.com/a-/AOh14GhigPa2oiOx5-_IBPPJcA_P97O3efS-LukwIxuU6Q=s64",
      "userId": "12683256270534380554"
     },
     "user_tz": -540
    },
    "id": "_BuFxsECMRcX",
    "outputId": "c8f6541f-004b-411d-ac9d-77ea77cd4cab"
   },
   "outputs": [
    {
     "name": "stdout",
     "output_type": "stream",
     "text": [
      "602/602 [==============================] - 1s 2ms/step - loss: 7738814.0000 - mean_squared_error: 7738814.0000\n"
     ]
    }
   ],
   "source": [
    "result = model.evaluate(x_test_transformed, y_test)"
   ]
  },
  {
   "cell_type": "code",
   "execution_count": 23,
   "metadata": {
    "colab": {
     "base_uri": "https://localhost:8080/"
    },
    "executionInfo": {
     "elapsed": 413,
     "status": "ok",
     "timestamp": 1634870247032,
     "user": {
      "displayName": "민초프라페",
      "photoUrl": "https://lh3.googleusercontent.com/a-/AOh14GhigPa2oiOx5-_IBPPJcA_P97O3efS-LukwIxuU6Q=s64",
      "userId": "12683256270534380554"
     },
     "user_tz": -540
    },
    "id": "B_v6GcBBQEgc",
    "outputId": "f56b28c0-ea65-4026-8e55-0959a7f89b28"
   },
   "outputs": [
    {
     "name": "stdout",
     "output_type": "stream",
     "text": [
      "loss (RMSE) : 2781.872391034499\n"
     ]
    }
   ],
   "source": [
    "print('loss (RMSE) :', result[0]**0.5)"
   ]
  },
  {
   "cell_type": "code",
   "execution_count": 24,
   "metadata": {
    "colab": {
     "base_uri": "https://localhost:8080/"
    },
    "executionInfo": {
     "elapsed": 4,
     "status": "ok",
     "timestamp": 1634870249221,
     "user": {
      "displayName": "민초프라페",
      "photoUrl": "https://lh3.googleusercontent.com/a-/AOh14GhigPa2oiOx5-_IBPPJcA_P97O3efS-LukwIxuU6Q=s64",
      "userId": "12683256270534380554"
     },
     "user_tz": -540
    },
    "id": "WlouR_ulQlJd",
    "outputId": "e71bedbb-ab7b-41e1-969a-4d096b33be27"
   },
   "outputs": [
    {
     "data": {
      "text/plain": [
       "dict_keys(['loss', 'mean_squared_error', 'val_loss', 'val_mean_squared_error'])"
      ]
     },
     "execution_count": 24,
     "metadata": {},
     "output_type": "execute_result"
    }
   ],
   "source": [
    "#history.history.keys()\n",
    "\n",
    "nn_fit.history.keys()"
   ]
  },
  {
   "cell_type": "code",
   "execution_count": 25,
   "metadata": {
    "colab": {
     "base_uri": "https://localhost:8080/",
     "height": 290
    },
    "executionInfo": {
     "elapsed": 584,
     "status": "ok",
     "timestamp": 1634870251961,
     "user": {
      "displayName": "민초프라페",
      "photoUrl": "https://lh3.googleusercontent.com/a-/AOh14GhigPa2oiOx5-_IBPPJcA_P97O3efS-LukwIxuU6Q=s64",
      "userId": "12683256270534380554"
     },
     "user_tz": -540
    },
    "id": "HQgnZ0h0Qtnv",
    "outputId": "f3c54e5f-5976-45bf-af35-129ea18f5760"
   },
   "outputs": [
    {
     "data": {
      "image/png": "[encoded data removed]",
      "text/plain": [
       "<Figure size 432x288 with 1 Axes>"
      ]
     },
     "metadata": {
      "needs_background": "light"
     },
     "output_type": "display_data"
    }
   ],
   "source": [
    "loss = nn_fit.history['mean_squared_error']\n",
    "val_loss = nn_fit.history['val_mean_squared_error']\n",
    "\n",
    "x_len = np.arange(len(loss))\n",
    "\n",
    "plt.plot(x_len, loss, marker='.', c='blue', label=\"Train-set loss.\")\n",
    "plt.plot(x_len, val_loss, marker='.', c='red', label=\"Validation-set loss.\")\n",
    "\n",
    "plt.legend(loc='upper right')\n",
    "plt.grid()\n",
    "plt.xlabel('epoch')\n",
    "plt.ylabel('Loss(MSE)')\n",
    "plt.show()"
   ]
  },
  {
   "cell_type": "code",
   "execution_count": 26,
   "metadata": {
    "colab": {
     "base_uri": "https://localhost:8080/",
     "height": 290
    },
    "executionInfo": {
     "elapsed": 566,
     "status": "ok",
     "timestamp": 1634870255029,
     "user": {
      "displayName": "민초프라페",
      "photoUrl": "https://lh3.googleusercontent.com/a-/AOh14GhigPa2oiOx5-_IBPPJcA_P97O3efS-LukwIxuU6Q=s64",
      "userId": "12683256270534380554"
     },
     "user_tz": -540
    },
    "id": "flkLGvfCRB20",
    "outputId": "a7c03bdb-3118-4bd7-a78c-b85216e6e2de"
   },
   "outputs": [
    {
     "data": {
      "image/png": "[encoded data removed]",
      "text/plain": [
       "<Figure size 432x288 with 1 Axes>"
      ]
     },
     "metadata": {
      "needs_background": "light"
     },
     "output_type": "display_data"
    }
   ],
   "source": [
    "loss = nn_fit.history['mean_squared_error']\n",
    "val_loss = nn_fit.history['val_mean_squared_error']\n",
    "\n",
    "x_len = np.arange(len(loss))\n",
    "\n",
    "# epoch 0 ~ epoch 50\n",
    "plt.plot(x_len[:200], loss[:200], marker='.', c='blue', label=\"Train-set loss.\")\n",
    "plt.plot(x_len[:200], val_loss[:200], marker='.', c='red', label=\"Validation-set loss.\")\n",
    "\n",
    "plt.legend(loc='upper right')\n",
    "plt.grid()\n",
    "plt.xlabel('epoch')\n",
    "plt.ylabel('Loss(MSE)')\n",
    "plt.show()"
   ]
  },
  {
   "cell_type": "code",
   "execution_count": null,
   "metadata": {
    "id": "x_mNC3DFkqeY"
   },
   "outputs": [],
   "source": []
  }
 ],
 "metadata": {
  "accelerator": "GPU",
  "colab": {
   "authorship_tag": "ABX9TyN2McybI7n6hbYmOrABZWMR",
   "collapsed_sections": [],
   "machine_shape": "hm",
   "name": "3th Semiproject_keras.ipynb",
   "provenance": [
    {
     "file_id": "1kWJDDmn1ijb0SSOq-A-7d5G8nQXuiEih",
     "timestamp": 1634651093888
    }
   ]
  },
  "kernelspec": {
   "display_name": "Python 3",
   "language": "python",
   "name": "python3"
  },
  "language_info": {
   "codemirror_mode": {
    "name": "ipython",
    "version": 3
   },
   "file_extension": ".py",
   "mimetype": "text/x-python",
   "name": "python",
   "nbconvert_exporter": "python",
   "pygments_lexer": "ipython3",
   "version": "3.7.3"
  }
 },
 "nbformat": 4,
 "nbformat_minor": 1
}
