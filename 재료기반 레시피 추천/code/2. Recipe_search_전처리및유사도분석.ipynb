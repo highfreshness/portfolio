{
 "cells": [
  {
   "cell_type": "code",
   "execution_count": 14,
   "metadata": {},
   "outputs": [],
   "source": [
    "import pandas as pd\n",
    "\n",
    "from sklearn.feature_extraction.text import TfidfVectorizer # TF-IDF 벡터화용\n",
    "from sklearn.metrics.pairwise import cosine_similarity # 유사도 분석용"
   ]
  },
  {
   "cell_type": "code",
   "execution_count": 15,
   "metadata": {},
   "outputs": [],
   "source": [
    "# 카테고리 받기 전 결측치 전처리\n",
    "def recipe_preprocess(recipe):\n",
    "    \n",
    "    # '소스' 열 결측치 '-' 로 대체\n",
    "    recipe['sorce'].fillna('-', inplace=True)\n",
    "    \n",
    "    # 전처리 데이터 중 '재료' 열에 NaN 이 있는 경우 해당 행 모두 삭제\n",
    "    recipe.dropna(axis=0,inplace=True,subset=['ingredient'])"
   ]
  },
  {
   "cell_type": "code",
   "execution_count": 16,
   "metadata": {},
   "outputs": [],
   "source": [
    "# 분류 값 입력\n",
    "def get_category():\n",
    "    \n",
    "    # 카테고리 선택 범위\n",
    "    cat_list = ['빵','메인반찬','찌개','국 탕','디저트','밑반찬','양식','퓨전']\n",
    "    print(f'현재 선택할 수 있는 카테고리는 {cat_list} 입니다.')\n",
    "    \n",
    "    while(True):\n",
    "        cat = input('찾고 싶은 레시피의 분류를 입력해주세요 : ')\n",
    "        \n",
    "        # 카테고리 선택 범위 밖에 있는 경우 무한 루프를 돌게 됨\n",
    "        if cat not in cat_list:\n",
    "            print('카테고리에 있는 값이 아닙니다. 다시 입력해주세요')\n",
    "        else:\n",
    "            break\n",
    "    return cat"
   ]
  },
  {
   "cell_type": "code",
   "execution_count": 17,
   "metadata": {},
   "outputs": [],
   "source": [
    "# 카테고리 선택 후 필터링\n",
    "def cat_preprocess(cat, recipe):\n",
    "    \n",
    "    # 1.기존 recipe DF에서 cooking_type열이 cat과 같은 데이터를 DF화 \n",
    "    recipe1 = recipe[(recipe['cooking_type'] == cat)]\n",
    "    \n",
    "    # 기존 인덱스 번호 초기화\n",
    "    recipe1.reset_index(inplace=True)\n",
    "    \n",
    "    # 2. 1의 DF에서 재료만 리스트 형태로 반환\n",
    "    origin_recipe = recipe1['ingredient'].tolist()\n",
    "    \n",
    "    # 인덱스를 통해 자료를 뽑기 위한 recipe1 과 vectorizer 추가를 위한 리스트 형태의 origin_recipe 반환\n",
    "    return recipe1, origin_recipe"
   ]
  },
  {
   "cell_type": "code",
   "execution_count": 33,
   "metadata": {},
   "outputs": [],
   "source": [
    "# 재료 입력\n",
    "def get_ingredients():\n",
    "    cnt = 1\n",
    "    recipe_list = []\n",
    "    ingredient = ''\n",
    "    print('최대 5개까지의 재료를 입력해주시고, 입력이 마무리 된 경우 x 입력해주세요')\n",
    "    while(cnt < 6):\n",
    "        ingredient_element = input('재료를 입력해주세요. : ')\n",
    "                                   \n",
    "        #재료입력에 대소문자 'X' 혹은 공백이 들어올 경우 입력이 마무리 됨\n",
    "        if ingredient_element == 'x' or ingredient_element=='X' or ingredient_element ==' ': \n",
    "            break\n",
    "        else:\n",
    "            recipe_list.append(ingredient_element)\n",
    "                                   \n",
    "        cnt += 1\n",
    "                                   \n",
    "    print(f'선택된 재료들은 {recipe_list} 입니다.')\n",
    "    input_recipe = ','.join(recipe_list)\n",
    "    return input_recipe"
   ]
  },
  {
   "cell_type": "code",
   "execution_count": 19,
   "metadata": {},
   "outputs": [],
   "source": [
    "# 벡터화\n",
    "def recipe_vectorizer(input_recipe, origin_recipe):\n",
    "    \n",
    "    # input_recipe = 입력받은 레시피 리스트의 str 형태, original_recipe = 레시피 리스트 형태\n",
    "    origin_recipe.append(input_recipe)\n",
    "    \n",
    "    # TfidfVectorizer() 객체 변수 생성, 깡통 모델\n",
    "    vectorizer = TfidfVectorizer()\n",
    "    \n",
    "    # recipe 재료 데이터 벡터화, .todense 는 반환 값 보고싶을 때 사용(사용 안 할경우 성능 향상 있음)\n",
    "    vec = vectorizer.fit_transform(origin_recipe)\n",
    "    \n",
    "    return vec"
   ]
  },
  {
   "cell_type": "code",
   "execution_count": 20,
   "metadata": {},
   "outputs": [],
   "source": [
    "# 벡터화된 레시피 값을 받아 유사도 분석 후 분석된 레시피의 기존 index 값과 유사도 상위 5개를 DataFrame 반환\n",
    "def sim_indexPreprocess (recipe_vec):\n",
    "    \n",
    "    # 입력된 recipe와 전체 recipe 의 유사도분석\n",
    "    sim = pd.DataFrame(cosine_similarity(recipe_vec[-1] , recipe_vec))\n",
    "    \n",
    "    # 유사도분석 된 자료를 정렬 후 상위 5개까지 추출 정렬\n",
    "    sim.sort_values(by=0,axis=1,ascending=False,inplace=True)\n",
    "    \n",
    "    # 유사도 분석 df와 레시피 df의 인덱스 행을 맞추기 위해 행열 전환처리(T=transpose) + 0번을 제외한 유사도 상위 5개 반환\n",
    "    sim_per = sim.iloc[ : , 1:6].T\n",
    "    \n",
    "    # 컬렴명(= recipe index 번호 추출)\n",
    "    recipe_index = sim_per.index.tolist()\n",
    "    \n",
    "    return recipe_index, sim_per"
   ]
  },
  {
   "cell_type": "code",
   "execution_count": 21,
   "metadata": {},
   "outputs": [],
   "source": [
    "# 유사도 결과 출력\n",
    "def recommendation_result(index_list, ref_recipe):\n",
    "    print('입력하신 재료와 유사한 레시피 최대 5개를 추출합니다.\\n')\n",
    "\n",
    "    for info in index_list:\n",
    "        title = ref_recipe.iloc[info]['title'] #제목\n",
    "        ingredient = ref_recipe.iloc[info]['ingredient'] #재료\n",
    "        url = ref_recipe.iloc[info]['uri'] # URL\n",
    "        source = ref_recipe.iloc[info]['sorce'] # 소스\n",
    "        similarity = (sim_per.loc[info][0])*100 # 유사도\n",
    "        print(f'레시피 : {title} (유사도:{similarity:.1f}%)')\n",
    "        print(f'재  료 : {ingredient}')\n",
    "        print(f' url  : {url}')\n",
    "        print(f'소  스 : {source}')\n",
    "        print('\\n')"
   ]
  },
  {
   "cell_type": "code",
   "execution_count": 22,
   "metadata": {},
   "outputs": [
    {
     "data": {
      "text/html": [
       "<div>\n",
       "<style scoped>\n",
       "    .dataframe tbody tr th:only-of-type {\n",
       "        vertical-align: middle;\n",
       "    }\n",
       "\n",
       "    .dataframe tbody tr th {\n",
       "        vertical-align: top;\n",
       "    }\n",
       "\n",
       "    .dataframe thead th {\n",
       "        text-align: right;\n",
       "    }\n",
       "</style>\n",
       "<table border=\"1\" class=\"dataframe\">\n",
       "  <thead>\n",
       "    <tr style=\"text-align: right;\">\n",
       "      <th></th>\n",
       "      <th>idx</th>\n",
       "      <th>page_num</th>\n",
       "      <th>seq</th>\n",
       "      <th>cooking_type</th>\n",
       "      <th>title</th>\n",
       "      <th>ingredient</th>\n",
       "      <th>sorce</th>\n",
       "      <th>uri</th>\n",
       "      <th>insert_dt</th>\n",
       "    </tr>\n",
       "  </thead>\n",
       "  <tbody>\n",
       "    <tr>\n",
       "      <th>0</th>\n",
       "      <td>1</td>\n",
       "      <td>1</td>\n",
       "      <td>1</td>\n",
       "      <td>밑반찬</td>\n",
       "      <td>버섯으로 관자 느낌 내는 방법! 새송이버섯간장버터구이 만들기</td>\n",
       "      <td>새송이버섯,버터,어린잎채소</td>\n",
       "      <td>간장,맛술,올리고당</td>\n",
       "      <td>https://www.10000recipe.com/recipe/6912734</td>\n",
       "      <td>2021-10-06 18:23:56</td>\n",
       "    </tr>\n",
       "    <tr>\n",
       "      <th>1</th>\n",
       "      <td>2</td>\n",
       "      <td>1</td>\n",
       "      <td>2</td>\n",
       "      <td>밑반찬</td>\n",
       "      <td>500원 이면 밥한끼~ 뚝딱하는 팽이버섯조림~ 너무 맛있어용^^~</td>\n",
       "      <td>팽이버섯,청양고추,식용유,다진마늘</td>\n",
       "      <td>고추가루,설탕,미림,진간장,굴소스,고추장,된장,물</td>\n",
       "      <td>https://www.10000recipe.com/recipe/6956266</td>\n",
       "      <td>2021-10-06 18:23:57</td>\n",
       "    </tr>\n",
       "    <tr>\n",
       "      <th>2</th>\n",
       "      <td>3</td>\n",
       "      <td>1</td>\n",
       "      <td>3</td>\n",
       "      <td>밑반찬</td>\n",
       "      <td>[마늘종볶음]단짠단짠 자꾸만 손이가요~</td>\n",
       "      <td>건새우,물,마늘종,소금</td>\n",
       "      <td>설탕,간장,식용유,참기름,물엿,통깨</td>\n",
       "      <td>https://www.10000recipe.com/recipe/6957535</td>\n",
       "      <td>2021-10-06 18:23:57</td>\n",
       "    </tr>\n",
       "    <tr>\n",
       "      <th>3</th>\n",
       "      <td>4</td>\n",
       "      <td>1</td>\n",
       "      <td>4</td>\n",
       "      <td>밑반찬</td>\n",
       "      <td>달콤 짭조름♡ 떡 베이컨 간장조림♡</td>\n",
       "      <td>베이컨,대파,떡</td>\n",
       "      <td>간장,참기름,물엿,기름</td>\n",
       "      <td>https://www.10000recipe.com/recipe/6843136</td>\n",
       "      <td>2021-10-06 18:23:58</td>\n",
       "    </tr>\n",
       "    <tr>\n",
       "      <th>4</th>\n",
       "      <td>5</td>\n",
       "      <td>1</td>\n",
       "      <td>5</td>\n",
       "      <td>밑반찬</td>\n",
       "      <td>아삭아삭한 고추된장박이</td>\n",
       "      <td>풋고추</td>\n",
       "      <td>된장,다진 마늘,송송썰은 대파,참기름,통깨,매실원액,설탕</td>\n",
       "      <td>https://www.10000recipe.com/recipe/4030952</td>\n",
       "      <td>2021-10-06 18:23:58</td>\n",
       "    </tr>\n",
       "  </tbody>\n",
       "</table>\n",
       "</div>"
      ],
      "text/plain": [
       "   idx  page_num  seq cooking_type                                 title  \\\n",
       "0    1         1    1          밑반찬     버섯으로 관자 느낌 내는 방법! 새송이버섯간장버터구이 만들기   \n",
       "1    2         1    2          밑반찬  500원 이면 밥한끼~ 뚝딱하는 팽이버섯조림~ 너무 맛있어용^^~   \n",
       "2    3         1    3          밑반찬                 [마늘종볶음]단짠단짠 자꾸만 손이가요~   \n",
       "3    4         1    4          밑반찬                   달콤 짭조름♡ 떡 베이컨 간장조림♡   \n",
       "4    5         1    5          밑반찬                         아삭아삭한 고추된장박이    \n",
       "\n",
       "           ingredient                            sorce  \\\n",
       "0      새송이버섯,버터,어린잎채소                       간장,맛술,올리고당   \n",
       "1  팽이버섯,청양고추,식용유,다진마늘      고추가루,설탕,미림,진간장,굴소스,고추장,된장,물   \n",
       "2        건새우,물,마늘종,소금              설탕,간장,식용유,참기름,물엿,통깨   \n",
       "3            베이컨,대파,떡                     간장,참기름,물엿,기름   \n",
       "4                 풋고추  된장,다진 마늘,송송썰은 대파,참기름,통깨,매실원액,설탕   \n",
       "\n",
       "                                          uri            insert_dt  \n",
       "0  https://www.10000recipe.com/recipe/6912734  2021-10-06 18:23:56  \n",
       "1  https://www.10000recipe.com/recipe/6956266  2021-10-06 18:23:57  \n",
       "2  https://www.10000recipe.com/recipe/6957535  2021-10-06 18:23:57  \n",
       "3  https://www.10000recipe.com/recipe/6843136  2021-10-06 18:23:58  \n",
       "4  https://www.10000recipe.com/recipe/4030952  2021-10-06 18:23:58  "
      ]
     },
     "execution_count": 22,
     "metadata": {},
     "output_type": "execute_result"
    }
   ],
   "source": [
    "recipe = pd.read_csv('recipe2.csv', encoding='utf-8')\n",
    "recipe.head()"
   ]
  },
  {
   "cell_type": "code",
   "execution_count": 23,
   "metadata": {},
   "outputs": [
    {
     "name": "stdout",
     "output_type": "stream",
     "text": [
      "<class 'pandas.core.frame.DataFrame'>\n",
      "RangeIndex: 31961 entries, 0 to 31960\n",
      "Data columns (total 9 columns):\n",
      "idx             31961 non-null int64\n",
      "page_num        31961 non-null int64\n",
      "seq             31961 non-null int64\n",
      "cooking_type    31961 non-null object\n",
      "title           31959 non-null object\n",
      "ingredient      31412 non-null object\n",
      "sorce           17739 non-null object\n",
      "uri             31961 non-null object\n",
      "insert_dt       31961 non-null object\n",
      "dtypes: int64(3), object(6)\n",
      "memory usage: 2.2+ MB\n"
     ]
    }
   ],
   "source": [
    "#결측치, 행 개수 확인\n",
    "recipe.info()"
   ]
  },
  {
   "cell_type": "code",
   "execution_count": 24,
   "metadata": {},
   "outputs": [],
   "source": [
    "# recipe DataFrame 전처리\n",
    "recipe_preprocess(recipe)"
   ]
  },
  {
   "cell_type": "code",
   "execution_count": 25,
   "metadata": {},
   "outputs": [
    {
     "name": "stdout",
     "output_type": "stream",
     "text": [
      "현재 선택할 수 있는 카테고리는 ['빵', '메인반찬', '찌개', '국 탕', '디저트', '밑반찬', '양식', '퓨전'] 입니다.\n",
      "찾고 싶은 레시피의 분류를 입력해주세요 : 빵\n"
     ]
    }
   ],
   "source": [
    "# 카테고리 입력\n",
    "cat = get_category()"
   ]
  },
  {
   "cell_type": "code",
   "execution_count": 26,
   "metadata": {},
   "outputs": [
    {
     "name": "stdout",
     "output_type": "stream",
     "text": [
      "최대 5개까지의 재료를 입력해주시고, 입력이 마무리 된 경우 x 입력해주세요\n",
      "재료를 입력해주세요. : 밀가루\n",
      "재료를 입력해주세요. : x\n",
      "선택된 재료들은 ['밀가루'] 입니다.\n"
     ]
    }
   ],
   "source": [
    "# 입력받은 메뉴를 str 형태로 반환 (최대 5개까지 입력)\n",
    "input_recipe = get_ingredients()"
   ]
  },
  {
   "cell_type": "code",
   "execution_count": 27,
   "metadata": {},
   "outputs": [],
   "source": [
    "ref_recipe, origin_recipe = cat_preprocess(cat, recipe)"
   ]
  },
  {
   "cell_type": "code",
   "execution_count": 28,
   "metadata": {
    "scrolled": true
   },
   "outputs": [],
   "source": [
    "# 입력받은 레시피 재료와 기존 레시피 재료 DataFrame을 벡터화\n",
    "recipe_vec = recipe_vectorizer(input_recipe, origin_recipe)"
   ]
  },
  {
   "cell_type": "code",
   "execution_count": 29,
   "metadata": {},
   "outputs": [],
   "source": [
    "# 벡터화된 레시피 값을 받아 유사도 분석 후 분석된 레시피의 기존 index 값과 유사도 상위 5개를 DataFrame 반환\n",
    "recipe_index, sim_per = sim_indexPreprocess(recipe_vec)"
   ]
  },
  {
   "cell_type": "code",
   "execution_count": 30,
   "metadata": {},
   "outputs": [
    {
     "name": "stdout",
     "output_type": "stream",
     "text": [
      "입력하신 재료와 유사한 레시피 최대 5개를 추출합니다.\n",
      "\n",
      "레시피 : 손반죽) 쫄깃하고 부드러운 탕종식빵 만들기 (영상/레시피) (유사도:100.0%)\n",
      "재  료 : 물,밀가루\n",
      " url  : https://www.10000recipe.com/recipe/6932249\n",
      "소  스 : 강력분,소금,설탕,이스트,분유,우유,버터,계란\n",
      "\n",
      "\n",
      "레시피 : 햄프씨드가 콕콕박힌 흑미식빵~~정말 꼬숩해요 (유사도:85.7%)\n",
      "재  료 : 밀가루,우유\n",
      " url  : https://www.10000recipe.com/recipe/6895333\n",
      "소  스 : 밀가루장,우유,달걀,제빵용흑미가루,강력분,햄프씨드,설탕,소금,이스트,버터\n",
      "\n",
      "\n",
      "레시피 : 건강 호박파이 만들기 (노버터, 노오일) (유사도:78.0%)\n",
      "재  료 : 밀가루,우유,소금\n",
      " url  : https://www.10000recipe.com/recipe/6966185\n",
      "소  스 : 단호박,우유,계란,계피가루,생강가루,후추가루,정향 가루,넛맥가루,설탕,소금\n",
      "\n",
      "\n",
      "레시피 : 밥솥 우유식빵 (유사도:75.8%)\n",
      "재  료 : 밀가루,물,우유,설탕,소금,프림,드라이이스트,밀가루,버터,밀가루\n",
      " url  : https://www.10000recipe.com/recipe/6940268\n",
      "소  스 : -\n",
      "\n",
      "\n",
      "레시피 : [영상] NO오븐 소보로빵 만들기 : '냉장고를 부탁해' 김풍 ‘최후의 소보로’ (유사도:73.9%)\n",
      "재  료 : 버터,설탕,밀가루,식빵,잼\n",
      " url  : https://www.10000recipe.com/recipe/6843635\n",
      "소  스 : -\n",
      "\n",
      "\n"
     ]
    }
   ],
   "source": [
    "# 유사도 결과 출력\n",
    "recommendation_result(recipe_index, ref_recipe)"
   ]
  }
 ],
 "metadata": {
  "kernelspec": {
   "display_name": "Python 3",
   "language": "python",
   "name": "python3"
  },
  "language_info": {
   "codemirror_mode": {
    "name": "ipython",
    "version": 3
   },
   "file_extension": ".py",
   "mimetype": "text/x-python",
   "name": "python",
   "nbconvert_exporter": "python",
   "pygments_lexer": "ipython3",
   "version": "3.7.3"
  }
 },
 "nbformat": 4,
 "nbformat_minor": 2
}
