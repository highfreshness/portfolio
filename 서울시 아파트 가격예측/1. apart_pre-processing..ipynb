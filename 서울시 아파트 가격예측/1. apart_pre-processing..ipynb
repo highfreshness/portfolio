{
 "cells": [
  {
   "cell_type": "code",
   "execution_count": 1,
   "metadata": {},
   "outputs": [],
   "source": [
    "import pandas as pd\n",
    "import datetime\n",
    "import numpy as np\n",
    "import lux"
   ]
  },
  {
   "cell_type": "code",
   "execution_count": 2,
   "metadata": {},
   "outputs": [
    {
     "name": "stderr",
     "output_type": "stream",
     "text": [
      "C:\\Users\\meteo\\.conda\\envs\\final\\lib\\site-packages\\IPython\\core\\interactiveshell.py:3173: DtypeWarning: Columns (1,12) have mixed types.Specify dtype option on import or set low_memory=False.\n",
      "  interactivity=interactivity, compiler=compiler, result=result)\n"
     ]
    }
   ],
   "source": [
    "apart = pd.read_csv('apart(2016~2020).csv') # 2016-2020 아파트 데이터 불러오기"
   ]
  },
  {
   "cell_type": "code",
   "execution_count": 3,
   "metadata": {},
   "outputs": [],
   "source": [
    "apart.drop(['실거래가아이디','지번코드','시군구코드','법정동코드','업무구분코드','업무구분','물건번호','대지권면적','관리구분코드','건물주용도코드','건물주용도'], axis=1, inplace=True) #미사용 열 삭제"
   ]
  },
  {
   "cell_type": "code",
   "execution_count": 4,
   "metadata": {},
   "outputs": [],
   "source": [
    "apart_2021 = pd.read_csv('apart(2021).csv') # 2021 아파트 데이터 불러오기"
   ]
  },
  {
   "cell_type": "code",
   "execution_count": 5,
   "metadata": {},
   "outputs": [],
   "source": [
    "apart_2021 = apart_2021[apart_2021['해제사유발생일'].isnull()] # 계약 해제사유발생 건 삭제\n",
    "apart_2021.drop(['번지','본번','부번','계약일','도로명','해제사유발생일','거래유형','중개사소재지'],axis=1, inplace=True) # 불필요 열 삭제\n",
    "\n",
    "apart_2021['자치구명'] = apart_2021['시군구'].str.split(\" \").str[1] # 자치구명 추출\n",
    "apart_2021['법정동명'] = apart_2021['시군구'].str.split(\" \").str[2] # 법정동명 추출\n",
    "apart_2021.drop(['시군구'], axis='columns', inplace=True) # 시군구 열 삭제\n",
    "\n",
    "apart_2021['계약년월'] = apart_2021['계약년월'] = 2021 # 계약년월 전체 2021년으로 대체\n",
    "\n",
    "apart_2021['거래금액(만원)'] = apart_2021['거래금액(만원)'].str.replace(\",\", '') # 거래금액 열 내 ',' 제거\n",
    "apart_2021['거래금액(만원)'] = apart_2021['거래금액(만원)'].astype(int) # 거래금액 열 타입 변경(object > int)\n",
    "apart_2021['거래금액(만원)'] = apart_2021['거래금액(만원)'].apply(lambda x : x * 10000) # 거래금액 열 단위(만원 > 원) 변경\n",
    "\n",
    "apart_2021 = apart_2021.rename(columns={'단지명':'건물명', '전용면적(㎡)':'건물면적', '거래금액(만원)':'물건금액', '층':'층정보', '계약년월':'신고년도'}) # 열 이름 변경\n",
    "apart_2021 = apart_2021[['자치구명','법정동명','신고년도','건물면적','층정보','물건금액','건축년도','건물명']] # 열 순서 변경"
   ]
  },
  {
   "cell_type": "code",
   "execution_count": 6,
   "metadata": {},
   "outputs": [],
   "source": [
    "apart_all = pd.concat([apart, apart_2021]) # 2016-2020 아파트 데이터 + 2021 아파트 데이터 Concat\n",
    "apart_all.reset_index(inplace=True,drop=True) # Concat 이후 인덱스 초기화"
   ]
  },
  {
   "cell_type": "code",
   "execution_count": 7,
   "metadata": {},
   "outputs": [
    {
     "name": "stdout",
     "output_type": "stream",
     "text": [
      "래미안|힐스테이트|자이|더샵|#|푸르지오|힐스테이트|롯데캐슬|아크로|아이파크|IPARK|에스케이뷰|SKVIEW\n"
     ]
    }
   ],
   "source": [
    "floor_drop_index = apart_all[apart_all['층정보'] == 0].index # 층정보 결측치 삭제\n",
    "apart_all.drop(floor_drop_index, inplace=True)\n",
    "const_year_index = apart_all[apart_all['건축년도'] == 0].index # 건축년도 결측치 삭제\n",
    "apart_all.drop(const_year_index, inplace=True)\n",
    "\n",
    "apart_all['경과년도'] = apart_all['건축년도'].apply(lambda x : int(datetime.datetime.now().year) - x) # 현재년도 - 건축년도\n",
    "apart_all['경과년도'] = apart_all[['경과년도']].replace(int(datetime.datetime.now().year),0) # 0 값으로 생긴 현재년도 값 0으로 대체\n",
    "\n",
    "brands = ['래미안','힐스테이트','자이','더샵','#','푸르지오','힐스테이트','롯데캐슬','아크로','아이파크','IPARK','에스케이뷰','SKVIEW'] # 시공사 브랜드 Top 10\n",
    "brand = '|'.join(brands) # contains 기능을 활용해 한번에 찾아낼 수 있도록 List > Str 형태로 변형하며 브랜드 사이에 |(or) 입력\n",
    "apart_all['브랜드점수'] = apart_all['건물명'].str.contains(brand) # 건물명에 Top10 브랜드가 있는 경우 True 아니면 False\n",
    "apart_all['브랜드점수'] = apart_all['브랜드점수'].apply(lambda x : 1 if x == True else 0)\n",
    "\n",
    "apart_all['법정동명'] = apart_all['법정동명'].apply(lambda x : x[:-2] if x[-1] in '가' else x) # 법정동명 값 중 OO동 뒤에 'X가' 같은 구획이 붙은 경우 삭제"
   ]
  },
  {
   "cell_type": "code",
   "execution_count": 17,
   "metadata": {},
   "outputs": [],
   "source": [
    "apart_priceindex = pd.read_csv('매매가격지수(아파트)_통합.csv', index_col='지역') # 매매가격지수 데이터 불러오기\n",
    "\n",
    "# 기존 아파트 실거래 데이터에서 신고년도/구 가 일치하는 매매가격지수 데이터를 새로운 열로 추가\n",
    "\n",
    "price_index_list = []\n",
    "\n",
    "for idx, row in apart_all.iterrows():\n",
    "        price_index_list.append(apart_priceindex[str(row['신고년도'])][row['자치구명']])\n",
    "        \n",
    "apart_all['매매지수'] = price_index_list\n",
    "\n",
    "# for idx, row in apart_all.iterrows():\n",
    "#     if idx < 10:\n",
    "#         print(row['자치구명'])\n",
    "#         print(row['신고년도'])\n",
    "#         print(apart_priceindex[str(row['신고년도'])][row['자치구명']])\n",
    "#         print()\n",
    "#     else:\n",
    "#         break"
   ]
  },
  {
   "cell_type": "code",
   "execution_count": 18,
   "metadata": {},
   "outputs": [
    {
     "name": "stdout",
     "output_type": "stream",
     "text": [
      "<class 'lux.core.frame.LuxDataFrame'>\n",
      "Int64Index: 493729 entries, 0 to 518344\n",
      "Data columns (total 11 columns):\n",
      " #   Column  Non-Null Count   Dtype  \n",
      "---  ------  --------------   -----  \n",
      " 0   자치구명    493729 non-null  object \n",
      " 1   법정동명    493729 non-null  object \n",
      " 2   신고년도    493729 non-null  int64  \n",
      " 3   건물면적    493729 non-null  float64\n",
      " 4   층정보     493729 non-null  int64  \n",
      " 5   물건금액    493729 non-null  int64  \n",
      " 6   건축년도    493729 non-null  int64  \n",
      " 7   건물명     493729 non-null  object \n",
      " 8   경과년도    493729 non-null  int64  \n",
      " 9   브랜드점수   493729 non-null  int64  \n",
      " 10  매매지수    493729 non-null  float64\n",
      "dtypes: float64(2), int64(6), object(3)\n",
      "memory usage: 45.2+ MB\n"
     ]
    }
   ],
   "source": [
    "apart_all.info()"
   ]
  },
  {
   "cell_type": "code",
   "execution_count": 11,
   "metadata": {},
   "outputs": [
    {
     "name": "stderr",
     "output_type": "stream",
     "text": [
      "C:\\Users\\meteo\\.conda\\envs\\final\\lib\\site-packages\\lux\\executor\\PandasExecutor.py:422: UserWarning:\n",
      "Lux detects that attributes ['신고년도', '건축년도'] may be temporal.\n",
      "To display visualizations for these attributes accurately, please convert temporal attributes to Datetime objects.\n",
      "For example, you can convert a Year attribute (e.g., 1998, 1971, 1982) using pd.to_datetime by specifying the `format` as '%Y'.\n",
      "\n",
      "Here is a starter template that you can use for converting the temporal fields:\n",
      "\tdf['신고년도'] = pd.to_datetime(df['신고년도'], format='<replace-with-datetime-format>')\n",
      "\tdf['건축년도'] = pd.to_datetime(df['건축년도'], format='<replace-with-datetime-format>')\n",
      "\n",
      "See more at: https://pandas.pydata.org/pandas-docs/stable/reference/api/pandas.to_datetime.html\n",
      "If 건축년도 is not a temporal attribute, please use override Lux's automatically detected type:\n",
      "\tdf.set_data_type({'건축년도':'quantitative'})\n"
     ]
    },
    {
     "data": {
      "application/vnd.jupyter.widget-view+json": {
       "model_id": "919578514ec34177922a89bbd52b6442",
       "version_major": 2,
       "version_minor": 0
      },
      "text/plain": [
       "Button(description='Toggle Pandas/Lux', layout=Layout(top='5px', width='140px'), style=ButtonStyle())"
      ]
     },
     "metadata": {},
     "output_type": "display_data"
    },
    {
     "data": {
      "application/vnd.jupyter.widget-view+json": {
       "model_id": "322f7e31bfc54f648b9ecc243bd9ae17",
       "version_major": 2,
       "version_minor": 0
      },
      "text/plain": [
       "Output()"
      ]
     },
     "metadata": {},
     "output_type": "display_data"
    }
   ],
   "source": [
    "# lux 데이터 시각화 1\n",
    "apart_all.intent = ['물건금액'] # 물건금액과 관련된 시각화 자료 확인\n",
    "apart_all"
   ]
  },
  {
   "cell_type": "code",
   "execution_count": null,
   "metadata": {},
   "outputs": [],
   "source": [
    "apart_all.to_csv('apart_all(2016-2021).csv', encoding='utf-8', index=False) # 전처리 완료 데이터 csv 저장"
   ]
  },
  {
   "cell_type": "code",
   "execution_count": null,
   "metadata": {},
   "outputs": [],
   "source": []
  }
 ],
 "metadata": {
  "interpreter": {
   "hash": "d89c83626622c9e356e02a8b08bdbf28ade194033e54409025ab0559ad02854c"
  },
  "kernelspec": {
   "display_name": "Python 3.7.3 64-bit ('final': conda)",
   "name": "python3"
  },
  "language_info": {
   "codemirror_mode": {
    "name": "ipython",
    "version": 3
   },
   "file_extension": ".py",
   "mimetype": "text/x-python",
   "name": "python",
   "nbconvert_exporter": "python",
   "pygments_lexer": "ipython3",
   "version": "3.7.11"
  },
  "orig_nbformat": 4
 },
 "nbformat": 4,
 "nbformat_minor": 2
}
