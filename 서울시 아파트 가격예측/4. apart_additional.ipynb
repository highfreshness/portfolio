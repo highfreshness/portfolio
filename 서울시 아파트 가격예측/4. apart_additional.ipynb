{
 "cells": [
  {
   "cell_type": "code",
   "execution_count": 2,
   "metadata": {},
   "outputs": [],
   "source": [
    "import pandas as pd\n",
    "df = pd.read_csv('stacking_20211110\\구별 csv\\강남구.csv', encoding='cp949')"
   ]
  },
  {
   "cell_type": "code",
   "execution_count": 23,
   "metadata": {},
   "outputs": [],
   "source": [
    "# 동 평균 아파트 금액(최근 1~2년)\n",
    "# 입력된 동 & 아파트이름 기준으로 2020~2021년도의 평균값을 리턴\n",
    "def dong_same_apartprice_average(df, dong, apart_name):\n",
    "    price_average = df[(df['법정동명'] == dong) & (df['건물명'] == apart_name ) & ((df['신고년도'] == 2020)|(df['신고년도'] == 2021))]['물건금액'].mean()\n",
    "    price_average = int(f'{price_average:.0f}')\n",
    "    if price_average > 0:\n",
    "        return print(price_average)\n",
    "    else :    \n",
    "        return print('일치하는 정보가 없습니다.')"
   ]
  },
  {
   "cell_type": "code",
   "execution_count": 24,
   "metadata": {},
   "outputs": [],
   "source": [
    "# 구 내 전체 아파트 평균 금액\n",
    "def gu_apartprice_average(df):\n",
    "    price_average = df[(df['신고년도'] == 2020) | (df['신고년도'] == 2021)]['물건금액'].mean()\n",
    "    price_average = int(f'{price_average:.0f}')\n",
    "    if price_average > 0:\n",
    "        return print(price_average)\n",
    "    else :    \n",
    "        return print('일치하는 정보가 없습니다.')"
   ]
  },
  {
   "cell_type": "code",
   "execution_count": 25,
   "metadata": {},
   "outputs": [],
   "source": [
    "# 동 내 전체 아파트 평균 금액\n",
    "def dong_total_apartprice_average(df, dong):\n",
    "    price_average = df[((df['신고년도']==2020) | (df['신고년도']==2021)) & (df['법정동명']=='공릉동')]['물건금액'].mean()\n",
    "    price_average = int(f'{price_average:.0f}')\n",
    "    if price_average > 0:\n",
    "        return print(price_average)\n",
    "    else :    \n",
    "        return print('일치하는 정보가 없습니다.')"
   ]
  }
 ],
 "metadata": {
  "interpreter": {
   "hash": "d89c83626622c9e356e02a8b08bdbf28ade194033e54409025ab0559ad02854c"
  },
  "kernelspec": {
   "display_name": "Python 3.7.11 64-bit ('final': conda)",
   "language": "python",
   "name": "python3"
  },
  "language_info": {
   "codemirror_mode": {
    "name": "ipython",
    "version": 3
   },
   "file_extension": ".py",
   "mimetype": "text/x-python",
   "name": "python",
   "nbconvert_exporter": "python",
   "pygments_lexer": "ipython3",
   "version": "3.7.11"
  },
  "orig_nbformat": 4
 },
 "nbformat": 4,
 "nbformat_minor": 2
}
